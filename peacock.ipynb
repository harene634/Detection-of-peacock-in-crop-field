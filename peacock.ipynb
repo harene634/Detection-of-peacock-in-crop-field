{
  "nbformat": 4,
  "nbformat_minor": 0,
  "metadata": {
    "colab": {
      "provenance": [],
      "collapsed_sections": [],
      "include_colab_link": true
    },
    "kernelspec": {
      "name": "python3",
      "display_name": "Python 3"
    },
    "language_info": {
      "name": "python"
    }
  },
  "cells": [
    {
      "cell_type": "markdown",
      "metadata": {
        "id": "view-in-github",
        "colab_type": "text"
      },
      "source": [
        "<a href=\"https://colab.research.google.com/github/harene634/REP/blob/main/peacock.ipynb\" target=\"_parent\"><img src=\"https://colab.research.google.com/assets/colab-badge.svg\" alt=\"Open In Colab\"/></a>"
      ]
    },
    {
      "cell_type": "code",
      "execution_count": null,
      "metadata": {
        "colab": {
          "base_uri": "https://localhost:8080/"
        },
        "id": "QjrfjOaS1T9N",
        "outputId": "18fc857e-4ad8-40ab-c394-9ba94eb0d212"
      },
      "outputs": [
        {
          "output_type": "stream",
          "name": "stdout",
          "text": [
            "Mounted at /content/drive/\n"
          ]
        }
      ],
      "source": [
        "from google.colab import drive\n",
        "drive.mount('/content/drive/')"
      ]
    },
    {
      "cell_type": "code",
      "source": [
        "from tensorflow.keras.models import Sequential\n",
        "from tensorflow.keras.layers import Dense\n",
        "from tensorflow.keras.layers import Convolution2D\n",
        "from tensorflow.keras.layers import MaxPooling2D\n",
        "from tensorflow.keras.layers import Flatten"
      ],
      "metadata": {
        "id": "uX2f43pkIaSv"
      },
      "execution_count": null,
      "outputs": []
    },
    {
      "cell_type": "code",
      "source": [
        "from keras.preprocessing.image import ImageDataGenerator"
      ],
      "metadata": {
        "id": "EuV4cLN1JX1S"
      },
      "execution_count": null,
      "outputs": []
    },
    {
      "cell_type": "code",
      "source": [
        "train_datagen=ImageDataGenerator(rescale=1./255,shear_range=0.2,zoom_range=0.2,\n",
        "                                 horizontal_flip=True)\n",
        "test_datagen=ImageDataGenerator(rescale=1./255)"
      ],
      "metadata": {
        "id": "njCKnkmCJcoB"
      },
      "execution_count": null,
      "outputs": []
    },
    {
      "cell_type": "code",
      "source": [
        "from google.colab import drive\n",
        "drive.mount('/content/drive')"
      ],
      "metadata": {
        "colab": {
          "base_uri": "https://localhost:8080/"
        },
        "id": "HK5WOzgt6Ob6",
        "outputId": "30ac987f-cf2d-4e85-f4db-24f6df86482d"
      },
      "execution_count": null,
      "outputs": [
        {
          "output_type": "stream",
          "name": "stdout",
          "text": [
            "Drive already mounted at /content/drive; to attempt to forcibly remount, call drive.mount(\"/content/drive\", force_remount=True).\n"
          ]
        }
      ]
    },
    {
      "cell_type": "code",
      "source": [
        "x_train=train_datagen.flow_from_directory(\"/content/drive/MyDrive/peaimg1\", target_size=(64,64),batch_size=64,class_mode=\"categorical\")\n",
        "x_test=test_datagen.flow_from_directory(\"/content/drive/MyDrive/peacocktest\",\n",
        "                                          target_size=(64,64),batch_size=64,class_mode=\"categorical\")"
      ],
      "metadata": {
        "id": "hk63QPmQLMoE",
        "colab": {
          "base_uri": "https://localhost:8080/"
        },
        "outputId": "8a79aadb-74d4-48c6-9e05-24191d0e479e"
      },
      "execution_count": null,
      "outputs": [
        {
          "output_type": "stream",
          "name": "stdout",
          "text": [
            "Found 182 images belonging to 2 classes.\n",
            "Found 17 images belonging to 2 classes.\n"
          ]
        }
      ]
    },
    {
      "cell_type": "markdown",
      "source": [],
      "metadata": {
        "id": "ZVGw4s79UjDQ"
      }
    },
    {
      "cell_type": "code",
      "source": [
        "print(x_train.class_indices)"
      ],
      "metadata": {
        "colab": {
          "base_uri": "https://localhost:8080/"
        },
        "id": "O3b9yiCtejlh",
        "outputId": "0c44f66f-d66e-4b8e-9367-d9ca5a648a88"
      },
      "execution_count": null,
      "outputs": [
        {
          "output_type": "stream",
          "name": "stdout",
          "text": [
            "{'non peacock img': 0, 'peacock img': 1}\n"
          ]
        }
      ]
    },
    {
      "cell_type": "code",
      "source": [
        "model=Sequential()"
      ],
      "metadata": {
        "id": "V4gyEZbjeo4I"
      },
      "execution_count": null,
      "outputs": []
    },
    {
      "cell_type": "code",
      "source": [
        "#adding convolution layer(no.of filters,filter size,input shape,activation function)\n",
        "model.add(Convolution2D(32,(3,3),input_shape=(64,64,3),activation=\"relu\"))"
      ],
      "metadata": {
        "id": "5uuMfGU2esnH"
      },
      "execution_count": null,
      "outputs": []
    },
    {
      "cell_type": "code",
      "source": [
        "#adding max pooling layer(pool_size)\n",
        "model.add(MaxPooling2D(pool_size=(2,2)))"
      ],
      "metadata": {
        "id": "ScWdk27yexMY"
      },
      "execution_count": null,
      "outputs": []
    },
    {
      "cell_type": "code",
      "source": [
        "#input layer of ann\n",
        "model.add(Flatten())"
      ],
      "metadata": {
        "id": "fEYZ3_XLezko"
      },
      "execution_count": null,
      "outputs": []
    },
    {
      "cell_type": "code",
      "source": [
        "#add hidden layer(no.of neurons,activation=relu,weights)\n",
        "model.add(Dense(units=128,activation=\"relu\"))"
      ],
      "metadata": {
        "id": "NZKyDSTHe2yY"
      },
      "execution_count": null,
      "outputs": []
    },
    {
      "cell_type": "code",
      "source": [
        "#add output layer(no.of output classes=5,activation function=softmax)\n",
        "model.add(Dense(units=6,activation=\"softmax\"))"
      ],
      "metadata": {
        "id": "e6GoLKDue5hf"
      },
      "execution_count": null,
      "outputs": []
    },
    {
      "cell_type": "code",
      "source": [
        "model.summary()"
      ],
      "metadata": {
        "colab": {
          "base_uri": "https://localhost:8080/"
        },
        "id": "5VHa7GgIfA3I",
        "outputId": "ae8a6ab0-3dc9-41ef-b1ee-6d15dbaa31ae"
      },
      "execution_count": null,
      "outputs": [
        {
          "output_type": "stream",
          "name": "stdout",
          "text": [
            "Model: \"sequential\"\n",
            "_________________________________________________________________\n",
            " Layer (type)                Output Shape              Param #   \n",
            "=================================================================\n",
            " conv2d (Conv2D)             (None, 62, 62, 32)        896       \n",
            "                                                                 \n",
            " max_pooling2d (MaxPooling2D  (None, 31, 31, 32)       0         \n",
            " )                                                               \n",
            "                                                                 \n",
            " flatten (Flatten)           (None, 30752)             0         \n",
            "                                                                 \n",
            " dense (Dense)               (None, 128)               3936384   \n",
            "                                                                 \n",
            " dense_1 (Dense)             (None, 6)                 774       \n",
            "                                                                 \n",
            "=================================================================\n",
            "Total params: 3,938,054\n",
            "Trainable params: 3,938,054\n",
            "Non-trainable params: 0\n",
            "_________________________________________________________________\n"
          ]
        }
      ]
    },
    {
      "cell_type": "code",
      "source": [
        "#configure the learning process(loss fucntion,accuracy,optimizer)\n",
        "model.compile(loss=\"categorical_crossentropy\",optimizer=\"adam\",metrics=[\"accuracy\"])"
      ],
      "metadata": {
        "id": "UxSvasORfGyw"
      },
      "execution_count": null,
      "outputs": []
    },
    {
      "cell_type": "code",
      "source": [
        "model.save(\"peacock.h5\")"
      ],
      "metadata": {
        "id": "s-7sfwv6fLZA"
      },
      "execution_count": null,
      "outputs": []
    },
    {
      "cell_type": "code",
      "source": [
        "from tensorflow.keras.models import load_model\n",
        "from tensorflow.keras.preprocessing import image\n",
        "import numpy as np"
      ],
      "metadata": {
        "id": "pzQXWypCfgDw"
      },
      "execution_count": null,
      "outputs": []
    },
    {
      "cell_type": "code",
      "source": [
        "model=load_model(\"peacock.h5\")"
      ],
      "metadata": {
        "id": "-t08nRS5fhFQ"
      },
      "execution_count": null,
      "outputs": []
    },
    {
      "cell_type": "code",
      "source": [
        "\n",
        "img=image.load_img(\"/content/drive/MyDrive/peaimg1/non peacock img/non peacock/536849-bird-animal-beautiful-wild-wings-exotic-birds.jpg\",target_size=(64,64))"
      ],
      "metadata": {
        "id": "2Zj4aq6Kfk_w"
      },
      "execution_count": null,
      "outputs": []
    },
    {
      "cell_type": "code",
      "source": [
        "img"
      ],
      "metadata": {
        "colab": {
          "base_uri": "https://localhost:8080/",
          "height": 81
        },
        "id": "eJwORH-uiMDQ",
        "outputId": "21164a30-3e70-4461-885a-0f5e4d5686a5"
      },
      "execution_count": null,
      "outputs": [
        {
          "output_type": "execute_result",
          "data": {
            "text/plain": [
              "<PIL.Image.Image image mode=RGB size=64x64 at 0x7F5E065F1910>"
            ],
            "image/png": "[encoded data removed]"
          },
          "metadata": {},
          "execution_count": 47
        }
      ]
    },
    {
      "cell_type": "code",
      "source": [
        "x=image.img_to_array(img)"
      ],
      "metadata": {
        "id": "_J6j-cK-iVKA"
      },
      "execution_count": null,
      "outputs": []
    },
    {
      "cell_type": "code",
      "source": [
        "x"
      ],
      "metadata": {
        "colab": {
          "base_uri": "https://localhost:8080/"
        },
        "id": "oeH4ontKiX6x",
        "outputId": "4fa9667e-7f94-4de4-d787-f82e84cc7045"
      },
      "execution_count": null,
      "outputs": [
        {
          "output_type": "execute_result",
          "data": {
            "text/plain": [
              "array([[[154., 207.,  11.],\n",
              "        [149., 207.,   8.],\n",
              "        [145., 205.,   9.],\n",
              "        ...,\n",
              "        [128., 158.,  36.],\n",
              "        [131., 151.,  38.],\n",
              "        [ 74.,  92.,   6.]],\n",
              "\n",
              "       [[149., 210.,  10.],\n",
              "        [145., 206.,   6.],\n",
              "        [141., 208.,   7.],\n",
              "        ...,\n",
              "        [145., 169.,  59.],\n",
              "        [129., 148.,  40.],\n",
              "        [ 60.,  73.,   4.]],\n",
              "\n",
              "       [[147., 208.,   8.],\n",
              "        [141., 208.,   6.],\n",
              "        [137., 205.,   4.],\n",
              "        ...,\n",
              "        [174., 183.,  92.],\n",
              "        [130., 143.,  51.],\n",
              "        [ 47.,  55.,   0.]],\n",
              "\n",
              "       ...,\n",
              "\n",
              "       [[137., 197.,   3.],\n",
              "        [135., 189.,   3.],\n",
              "        [131., 186.,   5.],\n",
              "        ...,\n",
              "        [120., 216.,   5.],\n",
              "        [123., 217.,   6.],\n",
              "        [123., 217.,   6.]],\n",
              "\n",
              "       [[140., 197.,   4.],\n",
              "        [133., 189.,   4.],\n",
              "        [129., 189.,   6.],\n",
              "        ...,\n",
              "        [121., 215.,   5.],\n",
              "        [122., 216.,   5.],\n",
              "        [127., 215.,   6.]],\n",
              "\n",
              "       [[143., 199.,   4.],\n",
              "        [134., 194.,   8.],\n",
              "        [129., 187.,   5.],\n",
              "        ...,\n",
              "        [118., 214.,   3.],\n",
              "        [125., 215.,   6.],\n",
              "        [123., 211.,   2.]]], dtype=float32)"
            ]
          },
          "metadata": {},
          "execution_count": 49
        }
      ]
    },
    {
      "cell_type": "code",
      "source": [
        "x.shape"
      ],
      "metadata": {
        "colab": {
          "base_uri": "https://localhost:8080/"
        },
        "id": "B8Q6c_vFibRp",
        "outputId": "9badd3f5-df3f-4a7a-9981-2ca82dc14974"
      },
      "execution_count": null,
      "outputs": [
        {
          "output_type": "execute_result",
          "data": {
            "text/plain": [
              "(64, 64, 3)"
            ]
          },
          "metadata": {},
          "execution_count": 50
        }
      ]
    },
    {
      "cell_type": "code",
      "source": [
        "x=np.expand_dims(x,axis=0)"
      ],
      "metadata": {
        "id": "VTF_iW6bifQY"
      },
      "execution_count": null,
      "outputs": []
    },
    {
      "cell_type": "code",
      "source": [
        "x.shape"
      ],
      "metadata": {
        "colab": {
          "base_uri": "https://localhost:8080/"
        },
        "id": "fPjNn6jXiiSI",
        "outputId": "74dc7b85-3dfd-4b46-cf08-02ac1210c648"
      },
      "execution_count": null,
      "outputs": [
        {
          "output_type": "execute_result",
          "data": {
            "text/plain": [
              "(1, 64, 64, 3)"
            ]
          },
          "metadata": {},
          "execution_count": 52
        }
      ]
    },
    {
      "cell_type": "code",
      "source": [
        "y=model.predict(x)\n",
        "pred=np.argmax(y, axis=1)"
      ],
      "metadata": {
        "colab": {
          "base_uri": "https://localhost:8080/"
        },
        "id": "ZwrPQACcin2g",
        "outputId": "6eaf114e-aca8-4461-89aa-9b1954d36a78"
      },
      "execution_count": null,
      "outputs": [
        {
          "output_type": "stream",
          "name": "stdout",
          "text": [
            "1/1 [==============================] - 0s 27ms/step\n"
          ]
        }
      ]
    },
    {
      "cell_type": "code",
      "source": [
        "y"
      ],
      "metadata": {
        "colab": {
          "base_uri": "https://localhost:8080/"
        },
        "id": "3YFCTc-airap",
        "outputId": "1db3d1e0-6a8f-4aeb-b4b9-1e2ef7600b80"
      },
      "execution_count": null,
      "outputs": [
        {
          "output_type": "execute_result",
          "data": {
            "text/plain": [
              "array([[0., 0., 0., 0., 1., 0.]], dtype=float32)"
            ]
          },
          "metadata": {},
          "execution_count": 54
        }
      ]
    },
    {
      "cell_type": "code",
      "source": [
        "pred"
      ],
      "metadata": {
        "id": "8HDQJDM0ivFg",
        "outputId": "6e7a9747-f579-426a-b4f1-74f2c8191eff",
        "colab": {
          "base_uri": "https://localhost:8080/"
        }
      },
      "execution_count": null,
      "outputs": [
        {
          "output_type": "execute_result",
          "data": {
            "text/plain": [
              "array([4])"
            ]
          },
          "metadata": {},
          "execution_count": 55
        }
      ]
    },
    {
      "cell_type": "code",
      "source": [
        "x_train.class_indices"
      ],
      "metadata": {
        "id": "6xm-Ok91i0GI",
        "outputId": "f626b342-153f-4e20-986c-9091b5262f3f",
        "colab": {
          "base_uri": "https://localhost:8080/"
        }
      },
      "execution_count": null,
      "outputs": [
        {
          "output_type": "execute_result",
          "data": {
            "text/plain": [
              "{'non peacock img': 0, 'peacock img': 1}"
            ]
          },
          "metadata": {},
          "execution_count": 56
        }
      ]
    }
  ]
}